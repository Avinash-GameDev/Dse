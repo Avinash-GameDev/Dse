{
 "cells": [
  {
   "cell_type": "code",
   "execution_count": 1,
   "id": "18f8c110-0940-4a84-8edb-679cee79f16c",
   "metadata": {},
   "outputs": [
    {
     "name": "stdout",
     "output_type": "stream",
     "text": [
      "   Roll Number Name Gender  Marks1  Marks2  Marks3\n",
      "0            1    A      F      85      80      78\n",
      "1            2    B      M      78      82      85\n",
      "2            3    C      M      92      85      88\n",
      "3            4    D      M      88      90      92\n",
      "4            5    E      F      76      79      80\n",
      "5            6    F      M      95      88      90\n",
      "6            7    G      F      89      92      86\n",
      "7            8    H      F      84      81      89\n",
      "8            9    I      F      91      87      84\n",
      "9           10    J      M      77      83      82\n"
     ]
    }
   ],
   "source": [
    "import pandas as pd\n",
    "\n",
    "# Creating a dataset with student details\n",
    "data = {\n",
    "    'Roll Number': [1, 2, 3, 4, 5, 6, 7, 8, 9, 10],\n",
    "    'Name': ['A', 'B', 'C', 'D', 'E', 'F', 'G', 'H', 'I', 'J'],\n",
    "    'Gender': ['F', 'M', 'M', 'M', 'F', 'M', 'F', 'F', 'F', 'M'],\n",
    "    'Marks1': [85, 78, 92, 88, 76, 95, 89, 84, 91, 77],\n",
    "    'Marks2': [80, 82, 85, 90, 79, 88, 92, 81, 87, 83],\n",
    "    'Marks3': [78, 85, 88, 92, 80, 90, 86, 89, 84, 82]\n",
    "}\n",
    "df = pd.DataFrame(data)\n",
    "\n",
    "print(df)\n"
   ]
  },
  {
   "cell_type": "code",
   "execution_count": 9,
   "id": "f5db4b82-4ef3-4050-a063-cda7cb2be62b",
   "metadata": {},
   "outputs": [],
   "source": [
    "df[\"Total marks\"]=df['Marks1']+df['Marks2']+df['Marks3']"
   ]
  },
  {
   "cell_type": "code",
   "execution_count": 11,
   "id": "cd658252-f9e3-4813-87b5-6410b56d94e0",
   "metadata": {},
   "outputs": [
    {
     "name": "stdout",
     "output_type": "stream",
     "text": [
      "   Roll Number Name Gender  Marks1  Marks2  Marks3  Total marks\n",
      "0            1    A      F      85      80      78          243\n",
      "1            2    B      M      78      82      85          245\n",
      "2            3    C      M      92      85      88          265\n",
      "3            4    D      M      88      90      92          270\n",
      "4            5    E      F      76      79      80          235\n",
      "5            6    F      M      95      88      90          273\n",
      "6            7    G      F      89      92      86          267\n",
      "7            8    H      F      84      81      89          254\n",
      "8            9    I      F      91      87      84          262\n",
      "9           10    J      M      77      83      82          242\n"
     ]
    }
   ],
   "source": [
    "print(df)"
   ]
  },
  {
   "cell_type": "code",
   "execution_count": 25,
   "id": "92fc48b4-4149-4ece-9001-a962bdaff2f2",
   "metadata": {},
   "outputs": [
    {
     "name": "stdout",
     "output_type": "stream",
     "text": [
      "lowest marks among Marks1 : 76\n"
     ]
    }
   ],
   "source": [
    "lowest_marks2=df['Marks1'].min()\n",
    "print(f\"lowest marks among Marks1 : {lowest_marks2}\")"
   ]
  },
  {
   "cell_type": "code",
   "execution_count": 27,
   "id": "1014ab08-1e8b-4a46-8109-cb5c5e6c54dd",
   "metadata": {},
   "outputs": [
    {
     "name": "stdout",
     "output_type": "stream",
     "text": [
      "lowest marks among Marks1 : 92\n"
     ]
    }
   ],
   "source": [
    "highest_marks2=df['Marks2'].max()\n",
    "print(f\"lowest marks among Marks1 : {highest_marks2}\")"
   ]
  },
  {
   "cell_type": "code",
   "execution_count": 29,
   "id": "bf0c43ec-ac7a-47ed-870f-f1e4110fc033",
   "metadata": {},
   "outputs": [
    {
     "name": "stdout",
     "output_type": "stream",
     "text": [
      "avg marks among : 85.4\n"
     ]
    }
   ],
   "source": [
    "avg_marks3=df['Marks3'].mean()\n",
    "print(f\"avg marks among : {avg_marks3}\")"
   ]
  },
  {
   "cell_type": "code",
   "execution_count": 33,
   "id": "06326e71-803c-4acc-a3e9-b41b740a1f7e",
   "metadata": {},
   "outputs": [
    {
     "name": "stdout",
     "output_type": "stream",
     "text": [
      "The student with the highest average marks is: F with an average of 91.00\n"
     ]
    }
   ],
   "source": [
    "#printing the name of student with highest average\n",
    "df['Average Marks'] = df[['Marks1', 'Marks2', 'Marks3']].mean(axis=1)\n",
    "highest_avg_student = df.loc[df['Average Marks'].idxmax()]\n",
    "print(f\"The student with the highest average marks is: {highest_avg_student['Name']} with an average of {highest_avg_student['Average Marks']:.2f}\")"
   ]
  },
  {
   "cell_type": "code",
   "execution_count": 35,
   "id": "8eabd999-4534-46dc-bc79-5f69090e5c65",
   "metadata": {},
   "outputs": [
    {
     "name": "stdout",
     "output_type": "stream",
     "text": [
      "The number of students who failed in Marks2 is: 0\n"
     ]
    }
   ],
   "source": [
    "#pass marks is 40 (given)\n",
    "failed_students = (df['Marks2'] < 40).sum()\n",
    "print(f\"The number of students who failed in Marks2 is: {failed_students}\")"
   ]
  }
 ],
 "metadata": {
  "kernelspec": {
   "display_name": "Python 3 (ipykernel)",
   "language": "python",
   "name": "python3"
  },
  "language_info": {
   "codemirror_mode": {
    "name": "ipython",
    "version": 3
   },
   "file_extension": ".py",
   "mimetype": "text/x-python",
   "name": "python",
   "nbconvert_exporter": "python",
   "pygments_lexer": "ipython3",
   "version": "3.12.4"
  }
 },
 "nbformat": 4,
 "nbformat_minor": 5
}
