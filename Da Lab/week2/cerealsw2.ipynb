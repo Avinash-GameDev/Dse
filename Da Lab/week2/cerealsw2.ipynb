{
 "cells": [
  {
   "cell_type": "code",
   "execution_count": 3,
   "id": "efba6f10-8ad8-493b-9f7c-a3c8e1a98cca",
   "metadata": {},
   "outputs": [
    {
     "name": "stdout",
     "output_type": "stream",
     "text": [
      "     calories  protein  fat  sodium  fiber  carbo  sugars  potass  vitamins  \\\n",
      "min      50.0      1.0  0.0     0.0   0.00   -1.0    -1.0    -1.0       0.0   \n",
      "25%     100.0      2.0  0.0   132.5   0.75   12.0     3.0    40.0      25.0   \n",
      "50%     110.0      2.5  1.0   180.0   1.75   14.5     7.0    90.0      25.0   \n",
      "75%     110.0      3.0  2.0   212.5   3.00   17.0    11.0   120.0      25.0   \n",
      "max     160.0      6.0  5.0   320.0  14.00   23.0    15.0   330.0     100.0   \n",
      "\n",
      "     shelf  weight  cups     rating  \n",
      "min    1.0     0.5  0.25  18.042851  \n",
      "25%    1.0     1.0  0.67  32.932466  \n",
      "50%    2.0     1.0  0.75  40.253086  \n",
      "75%    3.0     1.0  1.00  50.780847  \n",
      "max    3.0     1.5  1.50  93.704912  \n"
     ]
    }
   ],
   "source": [
    "import pandas as pd\n",
    "df = pd.read_csv('cereals.csv')\n",
    "\n",
    "# Display the 5-number summary for all numeric attributes\n",
    "summary = df.describe().loc[['min', '25%', '50%', '75%', 'max']]\n",
    "print(summary)\n"
   ]
  },
  {
   "cell_type": "code",
   "execution_count": 13,
   "id": "043920a8-34e3-4e70-8e37-0343a843bdcf",
   "metadata": {},
   "outputs": [
    {
     "name": "stdout",
     "output_type": "stream",
     "text": [
      "                      name mfr type  calories  protein  fat  sodium  fiber  \\\n",
      "0           100NaturalBran   Q    C       120        3    5      15    2.0   \n",
      "1                 All-Bran   K    C        70        4    1     260    9.0   \n",
      "2   All-BranwithExtraFiber   K    C        50        4    0     140   14.0   \n",
      "3            AlmondDelight   R    C       110        2    2     200    1.0   \n",
      "4    AppleCinnamonCheerios   G    C       110        2    2     180    1.5   \n",
      "..                     ...  ..  ...       ...      ...  ...     ...    ...   \n",
      "71                 Triples   G    C       110        2    1     250    0.0   \n",
      "72                    Trix   G    C       110        1    1     140    0.0   \n",
      "73               WheatChex   R    C       100        3    1     230    3.0   \n",
      "74                Wheaties   G    C       100        3    1     200    3.0   \n",
      "75       WheatiesHoneyGold   G    C       110        2    1     200    1.0   \n",
      "\n",
      "   carbo sugars potass  vitamins  shelf  weight  cups     rating  \n",
      "0    8.0      8    135         0      3     1.0  1.00  33.983679  \n",
      "1    7.0      5    320        25      3     1.0  0.33  59.425505  \n",
      "2    8.0      0    330        25      3     1.0  0.50  93.704912  \n",
      "3   14.0      8   <NA>        25      3     1.0  0.75  34.384843  \n",
      "4   10.5     10     70        25      1     1.0  0.75  29.509541  \n",
      "..   ...    ...    ...       ...    ...     ...   ...        ...  \n",
      "71  21.0      3     60        25      3     1.0  0.75  39.106174  \n",
      "72  13.0     12     25        25      2     1.0  1.00  27.753301  \n",
      "73  17.0      3    115        25      1     1.0  0.67  49.787445  \n",
      "74  17.0      3    110        25      1     1.0  1.00  51.592193  \n",
      "75  16.0      8     60        25      1     1.0  0.75  36.187559  \n",
      "\n",
      "[76 rows x 16 columns]\n"
     ]
    }
   ],
   "source": [
    "# Replace -1 with NA to identify missing values\n",
    "df.replace(-1, pd.NA, inplace=True)\n",
    "\n",
    "# Calculate the mean for each numeric attribute and replace NA with the mean\n",
    "numeric_columns = df.select_dtypes(include='number').columns\n",
    "for column in numeric_columns:\n",
    "    mean_value = df[column].mean()\n",
    "    df[column] = df[column].fillna(mean_value)\n",
    "\n",
    "print(df)\n"
   ]
  },
  {
   "cell_type": "code",
   "execution_count": 15,
   "id": "1a0012a1-e90f-4464-8075-f5ad8e5ca9f6",
   "metadata": {},
   "outputs": [
    {
     "name": "stdout",
     "output_type": "stream",
     "text": [
      "     calories  protein  fat  sodium  fiber  vitamins  shelf  weight  cups  \\\n",
      "min      50.0      1.0  0.0     0.0   0.00       0.0    1.0     0.5  0.25   \n",
      "25%     100.0      2.0  0.0   132.5   0.75      25.0    1.0     1.0  0.67   \n",
      "50%     110.0      2.5  1.0   180.0   1.75      25.0    2.0     1.0  0.75   \n",
      "75%     110.0      3.0  2.0   212.5   3.00      25.0    3.0     1.0  1.00   \n",
      "max     160.0      6.0  5.0   320.0  14.00     100.0    3.0     1.5  1.50   \n",
      "\n",
      "        rating  \n",
      "min  18.042851  \n",
      "25%  32.932466  \n",
      "50%  40.253086  \n",
      "75%  50.780847  \n",
      "max  93.704912  \n"
     ]
    }
   ],
   "source": [
    "# Display the 5-number summary for all numeric attributes after treating missing values\n",
    "summary_after_missing = df.describe().loc[['min', '25%', '50%', '75%', 'max']]\n",
    "print(summary_after_missing)\n"
   ]
  },
  {
   "cell_type": "code",
   "execution_count": 19,
   "id": "8160a2aa-c2ed-46aa-851a-49e15b1f8944",
   "metadata": {},
   "outputs": [
    {
     "name": "stdout",
     "output_type": "stream",
     "text": [
      "                      name mfr type  calories  protein  fat  sodium  fiber  \\\n",
      "0           100NaturalBran   Q    C       120      3.0    5   180.0   2.00   \n",
      "1                 All-Bran   K    C       110      4.0    1   260.0   1.75   \n",
      "2   All-BranwithExtraFiber   K    C       110      4.0    0   140.0   1.75   \n",
      "3            AlmondDelight   R    C       110      2.0    2   200.0   1.00   \n",
      "4    AppleCinnamonCheerios   G    C       110      2.0    2   180.0   1.50   \n",
      "..                     ...  ..  ...       ...      ...  ...     ...    ...   \n",
      "71                 Triples   G    C       110      2.0    1   250.0   0.00   \n",
      "72                    Trix   G    C       110      1.0    1   140.0   0.00   \n",
      "73               WheatChex   R    C       100      3.0    1   230.0   3.00   \n",
      "74                Wheaties   G    C       100      3.0    1   200.0   3.00   \n",
      "75       WheatiesHoneyGold   G    C       110      2.0    1   200.0   1.00   \n",
      "\n",
      "   carbo sugars potass  vitamins  shelf  weight  cups     rating  \n",
      "0    8.0      8    135        25      3     1.0  1.00  33.983679  \n",
      "1    7.0      5    320        25      3     1.0  0.33  59.425505  \n",
      "2    8.0      0    330        25      3     1.0  0.50  40.253086  \n",
      "3   14.0      8   <NA>        25      3     1.0  0.75  34.384843  \n",
      "4   10.5     10     70        25      1     1.0  0.75  29.509541  \n",
      "..   ...    ...    ...       ...    ...     ...   ...        ...  \n",
      "71  21.0      3     60        25      3     1.0  0.75  39.106174  \n",
      "72  13.0     12     25        25      2     1.0  1.00  27.753301  \n",
      "73  17.0      3    115        25      1     1.0  0.67  49.787445  \n",
      "74  17.0      3    110        25      1     1.0  1.00  51.592193  \n",
      "75  16.0      8     60        25      1     1.0  0.75  36.187559  \n",
      "\n",
      "[76 rows x 16 columns]\n"
     ]
    }
   ],
   "source": [
    "# Function to replace outliers with the median\n",
    "def replace_outliers_with_median(column):\n",
    "    median = column.median()\n",
    "    q1 = column.quantile(0.25)\n",
    "    q3 = column.quantile(0.75)\n",
    "    #IQR=inter quartile range\n",
    "    iqr = q3 - q1\n",
    "    lower_bound = q1 - 1.5 * iqr\n",
    "    upper_bound = q3 + 1.5 * iqr\n",
    "    column = column.apply(lambda x: median if x < lower_bound or x > upper_bound else x)\n",
    "    return column\n",
    "\n",
    "numeric_columns = df.select_dtypes(include='number').columns\n",
    "for column in numeric_columns:\n",
    "    df[column] = replace_outliers_with_median(df[column])\n",
    "\n",
    "print(df)\n"
   ]
  },
  {
   "cell_type": "code",
   "execution_count": 21,
   "id": "d4e9ba14-8f9b-4251-9aff-5d542d70c032",
   "metadata": {},
   "outputs": [
    {
     "name": "stdout",
     "output_type": "stream",
     "text": [
      "     calories  protein  fat  sodium  fiber  vitamins  shelf  weight  cups  \\\n",
      "min      90.0     1.00  0.0    70.0  0.000      25.0    1.0     1.0  0.25   \n",
      "25%     100.0     2.00  0.0   157.5  0.750      25.0    1.0     1.0  0.67   \n",
      "50%     110.0     2.25  1.0   180.0  1.625      25.0    2.0     1.0  0.75   \n",
      "75%     110.0     3.00  2.0   210.0  3.000      25.0    3.0     1.0  1.00   \n",
      "max     120.0     4.00  5.0   290.0  6.000      25.0    3.0     1.0  1.33   \n",
      "\n",
      "        rating  \n",
      "min  18.042851  \n",
      "25%  32.932466  \n",
      "50%  40.179526  \n",
      "75%  50.031833  \n",
      "max  74.472949  \n"
     ]
    }
   ],
   "source": [
    "# after treating outliers\n",
    "summary_after_noisy = df.describe().loc[['min', '25%', '50%', '75%', 'max']]\n",
    "print(summary_after_noisy)"
   ]
  }
 ],
 "metadata": {
  "kernelspec": {
   "display_name": "Python 3 (ipykernel)",
   "language": "python",
   "name": "python3"
  },
  "language_info": {
   "codemirror_mode": {
    "name": "ipython",
    "version": 3
   },
   "file_extension": ".py",
   "mimetype": "text/x-python",
   "name": "python",
   "nbconvert_exporter": "python",
   "pygments_lexer": "ipython3",
   "version": "3.12.4"
  }
 },
 "nbformat": 4,
 "nbformat_minor": 5
}
